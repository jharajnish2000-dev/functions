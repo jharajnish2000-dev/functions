{
  "nbformat": 4,
  "nbformat_minor": 0,
  "metadata": {
    "colab": {
      "provenance": []
    },
    "kernelspec": {
      "name": "python3",
      "display_name": "Python 3"
    },
    "language_info": {
      "name": "python"
    }
  },
  "cells": [
    {
      "cell_type": "markdown",
      "source": [
        "1.  What is the difference between a function and a method in Python?\n",
        "   - A function is an independent block of code that performs a task.\n",
        "   - A method is a function that is associated with an object (usually defined inside a class) and operates on that object\n",
        "\n",
        "2.  Explain the concept of function arguments and parameters in Python.\n",
        "   - Parameters are variables listed in a function’s definition.\n",
        "   - Arguments are the actual values passed to the function when it is called.\n",
        "\n",
        "3. What are the different ways to define and call a function in Python?\n",
        "   -\n",
        "4. What is the purpose of the `return` statement in a Python function?\n",
        "   - Ends the function’s execution.\n",
        "   - Sends a result back to where the function was called.\n",
        "   - Without return, the function returns None by default.\n",
        "\n",
        "5. What are iterators in Python and how do they differ from iterables?\n",
        "   - Iterable: A book (you can read it page by page)\n",
        "   - Iterator: A bookmark that remembers where you are in the book\n",
        "\n",
        "6. Explain the concept of generators in Python and how they are defined\n",
        "   - A generator is a special type of iterator that allows you to generate values on the fly, one at a time, using the yield keyword instead of return.\n",
        "\n",
        "   - There are two main ways to define generators:\n",
        "\n",
        "   1. Generator Function\n",
        "   Defined like a normal function but uses yield instead of return.\n",
        "   - Calling generator_example() doesn’t run the function — it returns a  generator object.\n",
        "\n",
        "   Values are produced one at a time using next().\n",
        "\n",
        "   2. Generator Expression\n",
        "\n",
        "   A concise way to create a generator, similar to list comprehensions, but using parentheses instead of brackets.\n",
        "\n",
        "   gen = (x * x for x in range(3))\n",
        "\n",
        "7. What are the advantages of using generators over regular functions?\n",
        "   - Generators offer several theoretical and practical advantages over regular functions, especially when dealing with large or complex data processing tasks.\n",
        "\n",
        "8. What is a lambda function in Python and when is it typically used?\n",
        "   - A lambda function is a concise way to define an unnamed, single-expression function, typically used for short, simple operations passed to higher-order functions like map(), filter(), or sorted().\n",
        "\n",
        "9.  Explain the purpose and usage of the `map()` function in Python.\n",
        "   - The map() function is used to apply a function to every item in an iterable (like a list, tuple, etc.) and return a new iterable (map object) with the results.\n",
        "   - It's a functional programming tool for transforming data without using  loops.\n",
        "\n",
        "10. What is the difference between `map()`, `reduce()`, and `filter()`     functions in Python?\n",
        "   - Use map() to transform data.\n",
        "   - Use filter() to select data.\n",
        "   - Use reduce() to combine data into one value.\n",
        "\n",
        "11.  Using pen & Paper write the internal mechanism for sum operation using  reduce function on this given\n",
        "list:[47,11,42,13];\n",
        "   - Using reduce() to sum [47, 11, 42, 13] works like this:\n",
        "     (((47 + 11) + 42) + 13) = 113\n",
        "\n",
        "     This is how reduce() cumulatively combines values from left to right using the given function.\n",
        "\n",
        "     Let me know if you'd like to see this with multiplication or a custom function instead!\n",
        "\n",
        "\n",
        "\n",
        "   "
      ],
      "metadata": {
        "id": "L2ZUnixMvzvA"
      }
    },
    {
      "cell_type": "markdown",
      "source": [],
      "metadata": {
        "id": "FicRXdBuPzFT"
      }
    },
    {
      "cell_type": "markdown",
      "source": [
        "Practical Questions:"
      ],
      "metadata": {
        "id": "79lrlHw8P8tE"
      }
    },
    {
      "cell_type": "markdown",
      "source": [
        "1.  Write a Python function that takes a list of numbers as input and returns the sum of all even numbers in\n",
        "the list."
      ],
      "metadata": {
        "id": "c-zwDWicgB-s"
      }
    },
    {
      "cell_type": "code",
      "source": [
        "def sum_even_numbers(numbers):\n",
        "  return sum(num for num in numbers if num % 2 == 0)\n",
        "my_list = [10, 15, 20, 25, 30]\n",
        "result = sum_even_numbers(my_list)\n",
        "print(result)"
      ],
      "metadata": {
        "colab": {
          "base_uri": "https://localhost:8080/"
        },
        "id": "UZkc7vlYXndD",
        "outputId": "b32ca123-a43c-433f-fc75-eed3c0594ce2"
      },
      "execution_count": null,
      "outputs": [
        {
          "output_type": "stream",
          "name": "stdout",
          "text": [
            "60\n"
          ]
        }
      ]
    },
    {
      "cell_type": "markdown",
      "source": [
        "2.  Create a Python function that accepts a string and returns the reverse of that string."
      ],
      "metadata": {
        "id": "7-nrh9v3f06t"
      }
    },
    {
      "cell_type": "code",
      "source": [
        "def reverse_string(string):\n",
        "  return string[::-1]\n",
        "\n",
        "my_string = \"hello\"\n",
        "reversed_string =  reverse_string(my_string)\n",
        "print(reversed_string)"
      ],
      "metadata": {
        "colab": {
          "base_uri": "https://localhost:8080/"
        },
        "id": "Usz_8CCxcS3w",
        "outputId": "77c59c92-b6fc-4756-befb-480d836238a5"
      },
      "execution_count": null,
      "outputs": [
        {
          "output_type": "stream",
          "name": "stdout",
          "text": [
            "olleh\n"
          ]
        }
      ]
    },
    {
      "cell_type": "markdown",
      "source": [
        "3. Implement a Python function that takes a list of integers and returns a new list containing the squares of\n",
        "each number."
      ],
      "metadata": {
        "id": "reKhm_Waf9Tc"
      }
    },
    {
      "cell_type": "code",
      "source": [
        "def square_numbers(numbers):\n",
        "  return [num ** 2 for num in numbers]\n",
        "\n",
        "my_square = [ 2, 3, 4, 5]\n",
        "squared = square_numbers(my_square)\n",
        "print(squared)\n"
      ],
      "metadata": {
        "colab": {
          "base_uri": "https://localhost:8080/"
        },
        "id": "4fPB7FWNdEU5",
        "outputId": "acfd6299-e9cb-4996-841f-07edbd11fc71"
      },
      "execution_count": null,
      "outputs": [
        {
          "output_type": "stream",
          "name": "stdout",
          "text": [
            "[4, 9, 16, 25]\n"
          ]
        }
      ]
    },
    {
      "cell_type": "markdown",
      "source": [
        "4.  Write a Python function that checks if a given number is prime or not from 1 to 200."
      ],
      "metadata": {
        "id": "uJvMh-XtlrSN"
      }
    },
    {
      "cell_type": "code",
      "metadata": {
        "colab": {
          "base_uri": "https://localhost:8080/"
        },
        "id": "cc85de54",
        "outputId": "1d149c72-1553-4a4b-ec8d-f65c604f88b1"
      },
      "source": [
        "def is_prime(num):\n",
        "  \"\"\"Checks if a number is prime within the range of 1 to 200.\"\"\"\n",
        "  if num < 2 or num > 200:\n",
        "    return False  # Not within the specified range\n",
        "\n",
        "  # Check for factors from 2 up to the square root of the number\n",
        "  for i in range(2, int(num**0.5) + 1):\n",
        "    if num % i == 0:\n",
        "      return False  # Found a factor, not prime\n",
        "\n",
        "  return True  # No factors found, it's prime\n",
        "\n",
        "# Example usage:\n",
        "print(f\"Is 7 prime? {is_prime(7)}\")\n",
        "print(f\"Is 10 prime? {is_prime(10)}\")\n",
        "print(f\"Is 199 prime? {is_prime(199)}\")\n",
        "print(f\"Is 201 prime? {is_prime(201)}\")"
      ],
      "execution_count": 1,
      "outputs": [
        {
          "output_type": "stream",
          "name": "stdout",
          "text": [
            "Is 7 prime? True\n",
            "Is 10 prime? False\n",
            "Is 199 prime? True\n",
            "Is 201 prime? False\n"
          ]
        }
      ]
    },
    {
      "cell_type": "markdown",
      "source": [
        " 5. Create an iterator class in Python that generates the Fibonacci sequence up to a specified number of\n",
        "terms."
      ],
      "metadata": {
        "id": "ho-tc94845Tr"
      }
    },
    {
      "cell_type": "code",
      "metadata": {
        "colab": {
          "base_uri": "https://localhost:8080/"
        },
        "id": "ec55fa97",
        "outputId": "d7a10c22-fbe7-4440-c3fd-97e18636a5ca"
      },
      "source": [
        "class FibonacciIterator:\n",
        "  \"\"\"An iterator that generates the Fibonacci sequence up to a specified number of terms.\"\"\"\n",
        "  def __init__(self, num_terms):\n",
        "    self.num_terms = num_terms\n",
        "    self.current_term = 0\n",
        "    self.a = 0\n",
        "    self.b = 1\n",
        "\n",
        "  def __iter__(self):\n",
        "    return self\n",
        "\n",
        "  def __next__(self):\n",
        "    if self.current_term < self.num_terms:\n",
        "      if self.current_term == 0:\n",
        "        self.current_term += 1\n",
        "        return self.a\n",
        "      elif self.current_term == 1:\n",
        "        self.current_term += 1\n",
        "        return self.b\n",
        "      else:\n",
        "        next_value = self.a + self.b\n",
        "        self.a = self.b\n",
        "        self.b = next_value\n",
        "        self.current_term += 1\n",
        "        return next_value\n",
        "    else:\n",
        "      raise StopIteration\n",
        "\n",
        "# Example usage:\n",
        "fib_iterator = FibonacciIterator(10)\n",
        "\n",
        "for num in fib_iterator:\n",
        "  print(num)"
      ],
      "execution_count": 5,
      "outputs": [
        {
          "output_type": "stream",
          "name": "stdout",
          "text": [
            "0\n",
            "1\n",
            "1\n",
            "2\n",
            "3\n",
            "5\n",
            "8\n",
            "13\n",
            "21\n",
            "34\n"
          ]
        }
      ]
    },
    {
      "cell_type": "markdown",
      "source": [
        " 6. Write a generator function in Python that yields the powers of 2 up to a given exponent."
      ],
      "metadata": {
        "id": "HwYbhfDw4_a8"
      }
    },
    {
      "cell_type": "code",
      "metadata": {
        "colab": {
          "base_uri": "https://localhost:8080/"
        },
        "id": "98fbdb70",
        "outputId": "1a997723-0fd4-47aa-eb29-46ef680dbf97"
      },
      "source": [
        "def powers_of_two(max_exponent):\n",
        "  \"\"\"Generates powers of 2 up to a given exponent.\"\"\"\n",
        "  for i in range(max_exponent + 1):\n",
        "    yield 2**i\n",
        "\n",
        "# Example usage:\n",
        "for power in powers_of_two(5):\n",
        "  print(power)"
      ],
      "execution_count": 6,
      "outputs": [
        {
          "output_type": "stream",
          "name": "stdout",
          "text": [
            "1\n",
            "2\n",
            "4\n",
            "8\n",
            "16\n",
            "32\n"
          ]
        }
      ]
    },
    {
      "cell_type": "markdown",
      "source": [
        "7. Implement a generator function that reads a file line by line and yields each line as a string."
      ],
      "metadata": {
        "id": "1KK7yW3rBhVg"
      }
    },
    {
      "cell_type": "code",
      "metadata": {
        "colab": {
          "base_uri": "https://localhost:8080/"
        },
        "id": "e3aac295",
        "outputId": "b26538ad-eef2-4747-d89c-e7e565dbd203"
      },
      "source": [
        "def read_file_line_by_line(file_path):\n",
        "    \"\"\"Generates lines from a file one by one.\"\"\"\n",
        "    try:\n",
        "        with open(file_path, 'r') as f:\n",
        "            for line in f:\n",
        "                yield line.strip()  # Yield each line, stripping whitespace\n",
        "    except FileNotFoundError:\n",
        "        print(f\"Error: File not found at {file_path}\")\n",
        "    except Exception as e:\n",
        "        print(f\"An error occurred: {e}\")\n",
        "\n",
        "# Example usage (assuming you have a file named 'my_document.txt'):\n",
        "# Create a dummy file for demonstration\n",
        "with open('my_document.txt', 'w') as f:\n",
        "    f.write(\"This is the first line.\\n\")\n",
        "    f.write(\"This is the second line.\\n\")\n",
        "    f.write(\"And this is the third line.\\n\")  # Added newline for consistency\n",
        "\n",
        "# Use the generator to read lines\n",
        "for line in read_file_line_by_line('my_document.txt'):\n",
        "    print(line)"
      ],
      "execution_count": 8,
      "outputs": [
        {
          "output_type": "stream",
          "name": "stdout",
          "text": [
            "This is the first line.\n",
            "This is the second line.\n",
            "And this is the third line.\n"
          ]
        }
      ]
    },
    {
      "cell_type": "markdown",
      "source": [
        "8.  Use a lambda function in Python to sort a list of tuples based on the second element of each tuple.\n",
        "\n"
      ],
      "metadata": {
        "id": "r3Una2_pFFPh"
      }
    },
    {
      "cell_type": "code",
      "metadata": {
        "colab": {
          "base_uri": "https://localhost:8080/"
        },
        "id": "47147d10",
        "outputId": "ac204d18-7216-4a70-f6bb-bb64a22f13f9"
      },
      "source": [
        "\n",
        "list_of_tuples = [(1, 'c'), (2, 'a'), (3, 'b')]\n",
        "\n",
        "# Sort the list of tuples based on the second element using a lambda function\n",
        "sorted_list = sorted(list_of_tuples, key=lambda item: item[1])\n",
        "\n",
        "print(sorted_list)"
      ],
      "execution_count": 9,
      "outputs": [
        {
          "output_type": "stream",
          "name": "stdout",
          "text": [
            "[(2, 'a'), (3, 'b'), (1, 'c')]\n"
          ]
        }
      ]
    },
    {
      "cell_type": "markdown",
      "source": [
        "9. Write a Python program that uses `map()` to convert a list of temperatures from Celsius to Fahrenheit."
      ],
      "metadata": {
        "id": "pMvQsz5AFiuD"
      }
    },
    {
      "cell_type": "code",
      "metadata": {
        "colab": {
          "base_uri": "https://localhost:8080/"
        },
        "id": "b05925f1",
        "outputId": "bedc1a00-43a7-4e88-ae4e-43b87c9acd79"
      },
      "source": [
        "\n",
        "def celsius_to_fahrenheit(celsius):\n",
        "  \"\"\"Converts Celsius to Fahrenheit.\"\"\"\n",
        "  return (celsius * 9/5) + 32\n",
        "\n",
        "# List of temperatures in Celsius\n",
        "celsius_temperatures = [0, 10, 20, 30, 40, 50]\n",
        "\n",
        "# Use map() to convert Celsius temperatures to Fahrenheit\n",
        "fahrenheit_temperatures = list(map(celsius_to_fahrenheit, celsius_temperatures))\n",
        "\n",
        "print(f\"Celsius temperatures: {celsius_temperatures}\")\n",
        "print(f\"Fahrenheit temperatures: {fahrenheit_temperatures}\")"
      ],
      "execution_count": 10,
      "outputs": [
        {
          "output_type": "stream",
          "name": "stdout",
          "text": [
            "Celsius temperatures: [0, 10, 20, 30, 40, 50]\n",
            "Fahrenheit temperatures: [32.0, 50.0, 68.0, 86.0, 104.0, 122.0]\n"
          ]
        }
      ]
    },
    {
      "cell_type": "markdown",
      "source": [
        "10.-Create a Python program that uses `filter()` to remove all the vowels from a given string."
      ],
      "metadata": {
        "id": "uIPtI3znGOsb"
      }
    },
    {
      "cell_type": "code",
      "metadata": {
        "colab": {
          "base_uri": "https://localhost:8080/"
        },
        "id": "ac3f477b",
        "outputId": "9f068838-e0c5-40a4-e507-b779bbd6b9f7"
      },
      "source": [
        "\n",
        "def is_not_vowel(character):\n",
        "  \"\"\"Checks if a character is not a vowel.\"\"\"\n",
        "  vowels = \"aeiouAEIOU\"\n",
        "  return character not in vowels\n",
        "\n",
        "# Given string\n",
        "my_string = \"Hello World\"\n",
        "\n",
        "# Use filter() to remove vowels from the string\n",
        "# filter returns an iterator, so we convert it to a list and then join to form a string\n",
        "filtered_characters = list(filter(is_not_vowel, my_string))\n",
        "string_without_vowels = \"\".join(filtered_characters)\n",
        "\n",
        "print(f\"Original string: {my_string}\")\n",
        "print(f\"String without vowels: {string_without_vowels}\")"
      ],
      "execution_count": 11,
      "outputs": [
        {
          "output_type": "stream",
          "name": "stdout",
          "text": [
            "Original string: Hello World\n",
            "String without vowels: Hll Wrld\n"
          ]
        }
      ]
    },
    {
      "cell_type": "code",
      "source": [],
      "metadata": {
        "id": "HiWM9XP2Gowk"
      },
      "execution_count": null,
      "outputs": []
    }
  ]
}